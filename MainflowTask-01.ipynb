{
 "cells": [
  {
   "cell_type": "markdown",
   "id": "3eea64d1-90f3-4974-be00-a63515fd50d2",
   "metadata": {},
   "source": [
    "LIST"
   ]
  },
  {
   "cell_type": "code",
   "execution_count": 20,
   "id": "24a12aaf-ef81-4778-b4d9-4f3cdc58112e",
   "metadata": {},
   "outputs": [
    {
     "name": "stdout",
     "output_type": "stream",
     "text": [
      "Updated list: [10, 2, 4, 5, 6]\n"
     ]
    }
   ],
   "source": [
    "mylist=[1,2,3,4,5]\n",
    "mylist.append(6)\n",
    "mylist.remove(3)\n",
    "mylist[0]=10\n",
    "print(\"Updated list:\",mylist)"
   ]
  },
  {
   "cell_type": "markdown",
   "id": "51337830-4056-4788-8d4f-8c4b0423e548",
   "metadata": {},
   "source": [
    "DICT"
   ]
  },
  {
   "cell_type": "code",
   "execution_count": 22,
   "id": "066a0fed-c6c1-4827-8051-7db3b81c6979",
   "metadata": {},
   "outputs": [
    {
     "name": "stdout",
     "output_type": "stream",
     "text": [
      "Updated Dict: {'Name': 'Amar', 'City': 'Visakhapatnam', 'Gender': 'Male'}\n"
     ]
    }
   ],
   "source": [
    "mydict={'Name':'Amar','Age':19,'City':'Vizag'}\n",
    "mydict['Gender']='Male'\n",
    "del mydict['Age']\n",
    "mydict['City']='Visakhapatnam'\n",
    "print(\"Updated Dict:\",mydict)"
   ]
  },
  {
   "cell_type": "markdown",
   "id": "e8d7f10b-558f-471e-a5f7-1843bca66075",
   "metadata": {},
   "source": [
    "SET"
   ]
  },
  {
   "cell_type": "code",
   "execution_count": 24,
   "id": "57750840-c27a-4cca-ad84-8620702effe7",
   "metadata": {},
   "outputs": [
    {
     "name": "stdout",
     "output_type": "stream",
     "text": [
      "Updated Set: {2, 4, 5, 6}\n"
     ]
    }
   ],
   "source": [
    "myset={1,2,3,4,5}\n",
    "myset.add(6)\n",
    "myset.remove(3)\n",
    "myset.discard(1)\n",
    "print('Updated Set:',myset)"
   ]
  }
 ],
 "metadata": {
  "kernelspec": {
   "display_name": "Python 3 (ipykernel)",
   "language": "python",
   "name": "python3"
  },
  "language_info": {
   "codemirror_mode": {
    "name": "ipython",
    "version": 3
   },
   "file_extension": ".py",
   "mimetype": "text/x-python",
   "name": "python",
   "nbconvert_exporter": "python",
   "pygments_lexer": "ipython3",
   "version": "3.11.7"
  }
 },
 "nbformat": 4,
 "nbformat_minor": 5
}
